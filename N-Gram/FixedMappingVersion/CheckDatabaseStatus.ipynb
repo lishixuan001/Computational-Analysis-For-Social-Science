{
 "cells": [
  {
   "cell_type": "code",
   "execution_count": 5,
   "metadata": {},
   "outputs": [],
   "source": [
    "import os\n",
    "from os import listdir\n",
    "from os.path import isfile, join\n",
    "\n",
    "import sqlite3"
   ]
  },
  {
   "cell_type": "code",
   "execution_count": 6,
   "metadata": {},
   "outputs": [],
   "source": [
    "\"\"\"\n",
    "Paths for Database\n",
    "\"\"\"\n",
    "db_root = \"./\"\n",
    "db_name = \"my_result.db\""
   ]
  },
  {
   "cell_type": "code",
   "execution_count": 7,
   "metadata": {},
   "outputs": [],
   "source": [
    "## [Method] Display Fuction\n",
    "\n",
    "\"\"\"\n",
    "Get name of an object\n",
    "\"\"\"\n",
    "def namestr(obj, namespace):\n",
    "    return [name for name in namespace if namespace[name] is obj]\n",
    "\n",
    "\"\"\"\n",
    "Display with format\n",
    "\"\"\"\n",
    "def display(items, func=None, limit=None):\n",
    "    # Print Variable Name\n",
    "    print(namestr(items, globals()))\n",
    "    # Print Content\n",
    "    count = 0\n",
    "    for item in items:\n",
    "        # Consider Limit\n",
    "        if limit is not None and count >= limit:\n",
    "            return\n",
    "        # Consider Exerted Function\n",
    "        if func:\n",
    "            item = func(item)\n",
    "        # Print Each Item\n",
    "        print(\"     {0}\".format(item))\n",
    "        count += 1\n",
    "\n",
    "### Test ###\n",
    "# test_dict = {\"A\": [1, 2, 3], \"B\": [4, 5, 6]}\n",
    "# display(test_dict)"
   ]
  },
  {
   "cell_type": "code",
   "execution_count": 8,
   "metadata": {},
   "outputs": [],
   "source": [
    "def get_breakpoint_article_id():\n",
    "    # Connect to the database \"map_result.db\"\n",
    "    conn = sqlite3.connect(join(db_root, db_name))\n",
    "    # Create Cursor object so that we can execute SQL commands\n",
    "    cur = conn.cursor()\n",
    "    # Select all data entries from the table \n",
    "    cur.execute('SELECT * FROM map_result')\n",
    "    # Display all data collected\n",
    "    database_collection = cur.fetchall()\n",
    "    print(\"Total Count: {count}\".format(count=len(database_collection)))\n",
    "    display(database_collection[-1])\n",
    "    breakpoint_id = database_collection[-1][1]\n",
    "    # Close the cursor and the database\n",
    "    cur.close()\n",
    "    conn.close()\n",
    "\n",
    "    return breakpoint_id"
   ]
  },
  {
   "cell_type": "code",
   "execution_count": 40,
   "metadata": {},
   "outputs": [
    {
     "name": "stdout",
     "output_type": "stream",
     "text": [
      "Total Count: 20569\n",
      "[]\n",
      "     001\n",
      "     10.2307_20174176\n",
      "     0.010025062656641603\n",
      "     0.007518796992481203\n",
      "     0.010025062656641603\n",
      "     0.0\n",
      "     0.0\n",
      "     0.0\n",
      "     0.0\n",
      "     0.0\n",
      "     0.0\n",
      "     0.010025062656641603\n",
      "     0.007518796992481203\n",
      "     0.010025062656641603\n",
      "     Culture\n"
     ]
    }
   ],
   "source": [
    "breakpoint_id = get_breakpoint_article_id()"
   ]
  },
  {
   "cell_type": "code",
   "execution_count": null,
   "metadata": {},
   "outputs": [],
   "source": []
  }
 ],
 "metadata": {
  "kernelspec": {
   "display_name": "Python 3",
   "language": "python",
   "name": "python3"
  },
  "language_info": {
   "codemirror_mode": {
    "name": "ipython",
    "version": 3
   },
   "file_extension": ".py",
   "mimetype": "text/x-python",
   "name": "python",
   "nbconvert_exporter": "python",
   "pygments_lexer": "ipython3",
   "version": "3.5.4"
  }
 },
 "nbformat": 4,
 "nbformat_minor": 2
}
