{
 "cells": [
  {
   "cell_type": "code",
   "execution_count": 1,
   "metadata": {},
   "outputs": [],
   "source": [
    "import os\n",
    "from os import listdir\n",
    "from os.path import isfile, join\n",
    "\n",
    "import sqlite3\n",
    "import pickle"
   ]
  },
  {
   "cell_type": "code",
   "execution_count": 2,
   "metadata": {},
   "outputs": [],
   "source": [
    "\"\"\"\n",
    "Paths for Database\n",
    "\"\"\"\n",
    "db_root = \"./\"\n",
    "db_name = \"map_result.db\"\n",
    "\n",
    "\n",
    "\"\"\"\n",
    "Paths for Articles\n",
    "\"\"\"\n",
    "zip_articles_root = \"../Soc_MGT_OB_1980_2018\"\n",
    "extracted_articles_root = \"../ExtractedZipFiles\"\n",
    "demo_files_root = \"../ExtractedZipFiles/demo\"\n"
   ]
  },
  {
   "cell_type": "code",
   "execution_count": 3,
   "metadata": {},
   "outputs": [],
   "source": [
    "## [Method] Display Fuction\n",
    "\n",
    "\"\"\"\n",
    "Get name of an object\n",
    "\"\"\"\n",
    "def namestr(obj, namespace):\n",
    "    return [name for name in namespace if namespace[name] is obj]\n",
    "\n",
    "\"\"\"\n",
    "Display with format\n",
    "\"\"\"\n",
    "def display(items, func=None, limit=None):\n",
    "    # Print Variable Name\n",
    "    print(namestr(items, globals()))\n",
    "    # Print Content\n",
    "    count = 0\n",
    "    for item in items:\n",
    "        # Consider Limit\n",
    "        if limit is not None and count >= limit:\n",
    "            return\n",
    "        # Consider Exerted Function\n",
    "        if func:\n",
    "            item = func(item)\n",
    "        # Print Each Item\n",
    "        print(\"     {0}\".format(item))\n",
    "        count += 1\n",
    "\n",
    "### Test ###\n",
    "# test_dict = {\"A\": [1, 2, 3], \"B\": [4, 5, 6]}\n",
    "# display(test_dict)"
   ]
  },
  {
   "cell_type": "markdown",
   "metadata": {},
   "source": [
    "## [Method] Clean Difference Files"
   ]
  },
  {
   "cell_type": "code",
   "execution_count": 4,
   "metadata": {},
   "outputs": [],
   "source": [
    "with open(\"./df_diffs_sum.gz\", \"rb\") as df_diffs_file:\n",
    "    df_diffs_sum = pickle.load(df_diffs_file)"
   ]
  },
  {
   "cell_type": "code",
   "execution_count": null,
   "metadata": {},
   "outputs": [],
   "source": []
  },
  {
   "cell_type": "markdown",
   "metadata": {},
   "source": [
    "## [Warning] Drop Table"
   ]
  },
  {
   "cell_type": "code",
   "execution_count": 5,
   "metadata": {},
   "outputs": [],
   "source": [
    "def clear_db_table():\n",
    "    \n",
    "    # Check Code In Case Of Mis-Behavior\n",
    "    code = input(\"Type Code For Authorization: \")\n",
    "    if not code == \"jstor\":\n",
    "        print(\"Denied Access\")\n",
    "        return\n",
    "    \n",
    "    # Connect to the database \"map_result.db\"\n",
    "    conn = sqlite3.connect(join(db_root, db_name))\n",
    "    # Create Cursor object so that we can execute SQL commands\n",
    "    cur = conn.cursor()\n",
    "    # Clear Table\n",
    "    clear_table = \"drop table map_result\"\n",
    "    cur.execute(clear_table)\n",
    "    conn.commit()\n",
    "    cur.close()\n",
    "    conn.close()\n",
    "    \n",
    "    print(\"Table Dropped\")"
   ]
  },
  {
   "cell_type": "code",
   "execution_count": 6,
   "metadata": {},
   "outputs": [],
   "source": [
    "# clear_db_table()"
   ]
  },
  {
   "cell_type": "markdown",
   "metadata": {},
   "source": [
    "## [Warning] Only Run This If Empty Database"
   ]
  },
  {
   "cell_type": "code",
   "execution_count": 7,
   "metadata": {},
   "outputs": [],
   "source": [
    "def init_db_table():\n",
    "    \n",
    "    # Check Code In Case Of Mis-Behavior\n",
    "    code = input(\"Type Code For Authorization: \")\n",
    "    if not code == \"jstor\":\n",
    "        print(\"Denied Access\")\n",
    "        return\n",
    "    \n",
    "    # Connect to the database \"map_result.db\"\n",
    "    conn = sqlite3.connect(join(db_root, db_name))\n",
    "    # Create Cursor object so that we can execute SQL commands\n",
    "    cur = conn.cursor()\n",
    "    # Create table\n",
    "    create_table = 'create table if not exists map_result ' \\\n",
    "        '(set_id text, file_id text, ' \\\n",
    "        'n1_culture real, n1_demographic real, n1_relational real, ' \\\n",
    "        'n2_culture real, n2_demographic real, n2_relational real, ' \\\n",
    "        'n3_culture real, n3_demographic real, n3_relational real, ' \\\n",
    "        'culture_rate real, demographic_rate real, relational_rate real, classification text) '\n",
    "    cur.execute(create_table)\n",
    "\n",
    "    # Commit the changes and close\n",
    "    conn.commit()\n",
    "    cur.close()\n",
    "    conn.close()\n",
    "    print(\"Table Init Success\")"
   ]
  },
  {
   "cell_type": "code",
   "execution_count": 8,
   "metadata": {},
   "outputs": [],
   "source": [
    "# init_db_table()"
   ]
  },
  {
   "cell_type": "code",
   "execution_count": 23,
   "metadata": {},
   "outputs": [],
   "source": [
    "def get_breakpoint_article_id():\n",
    "    # Connect to the database \"map_result.db\"\n",
    "    conn = sqlite3.connect(join(db_root, db_name))\n",
    "    # Create Cursor object so that we can execute SQL commands\n",
    "    cur = conn.cursor()\n",
    "    # Select all data entries from the table \n",
    "    cur.execute('SELECT file_id FROM map_result')\n",
    "    # Display all data collected\n",
    "    database_collection = cur.fetchall()\n",
    "    # Close the cursor and the database\n",
    "    cur.close()\n",
    "    conn.close()\n",
    "    \n",
    "    if len(database_collection) > 0:\n",
    "        loaded_ids = [data_collection[0] for data_collection in database_collection]\n",
    "        print(len(loaded_ids))\n",
    "    return None"
   ]
  },
  {
   "cell_type": "code",
   "execution_count": 25,
   "metadata": {},
   "outputs": [
    {
     "name": "stdout",
     "output_type": "stream",
     "text": [
      "4023\n"
     ]
    }
   ],
   "source": [
    "breakpoint_id = get_breakpoint_article_id()"
   ]
  },
  {
   "cell_type": "code",
   "execution_count": null,
   "metadata": {},
   "outputs": [],
   "source": []
  },
  {
   "cell_type": "code",
   "execution_count": null,
   "metadata": {},
   "outputs": [],
   "source": []
  }
 ],
 "metadata": {
  "kernelspec": {
   "display_name": "Python 3",
   "language": "python",
   "name": "python3"
  },
  "language_info": {
   "codemirror_mode": {
    "name": "ipython",
    "version": 3
   },
   "file_extension": ".py",
   "mimetype": "text/x-python",
   "name": "python",
   "nbconvert_exporter": "python",
   "pygments_lexer": "ipython3",
   "version": "3.5.4"
  }
 },
 "nbformat": 4,
 "nbformat_minor": 2
}
