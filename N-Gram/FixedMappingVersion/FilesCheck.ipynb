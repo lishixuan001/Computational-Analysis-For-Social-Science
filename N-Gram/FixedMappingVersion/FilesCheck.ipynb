{
 "cells": [
  {
   "cell_type": "code",
   "execution_count": 33,
   "metadata": {},
   "outputs": [],
   "source": [
    "import os\n",
    "from os import listdir\n",
    "from os.path import isfile, join\n",
    "\n",
    "import re\n",
    "import sys\n",
    "import time\n",
    "from collections import Counter\n",
    "\n",
    "import pandas as pd\n",
    "import numpy as np\n",
    "\n",
    "import csv\n",
    "import zipfile\n",
    "import pickle\n",
    "\n",
    "import sqlite3"
   ]
  },
  {
   "cell_type": "markdown",
   "metadata": {},
   "source": [
    "## [Method] Display Fuction"
   ]
  },
  {
   "cell_type": "code",
   "execution_count": 2,
   "metadata": {},
   "outputs": [],
   "source": [
    "\"\"\"\n",
    "Get name of an object\n",
    "\"\"\"\n",
    "def namestr(obj, namespace):\n",
    "    return [name for name in namespace if namespace[name] is obj]\n",
    "\n",
    "\"\"\"\n",
    "Display with format\n",
    "\"\"\"\n",
    "def display(items, func=None, limit=None):\n",
    "    # Print Variable Name\n",
    "    print(namestr(items, globals()))\n",
    "    # Print Content\n",
    "    count = 0\n",
    "    for item in items:\n",
    "        # Consider Limit\n",
    "        if limit is not None and count >= limit:\n",
    "            return\n",
    "        # Consider Exerted Function\n",
    "        if func:\n",
    "            item = func(item)\n",
    "        # Print Each Item\n",
    "        print(\"     {0}\".format(item))\n",
    "        count += 1\n",
    "\n",
    "### Test ###\n",
    "# test_dict = {\"A\": [1, 2, 3], \"B\": [4, 5, 6]}\n",
    "# display(test_dict)"
   ]
  },
  {
   "cell_type": "markdown",
   "metadata": {},
   "source": [
    "## [Method] Display Progress"
   ]
  },
  {
   "cell_type": "code",
   "execution_count": 3,
   "metadata": {},
   "outputs": [],
   "source": [
    "def report_progress(progress, total, lbar_prefix = '', rbar_prefix=''):\n",
    "    percent = round(progress / float(total) * 100, 2)\n",
    "    buf = \"{0}|{1}| {2}{3}/{4} {5}% \".format(lbar_prefix, ('#' * round(percent)).ljust(100, '-'),\n",
    "        rbar_prefix, progress, total, percent)\n",
    "    sys.stdout.write(buf)\n",
    "    sys.stdout.write('\\r')\n",
    "    sys.stdout.flush()\n",
    "\n",
    "\n",
    "def report_progress_done():\n",
    "    sys.stdout.write('\\n')\n",
    "\n",
    "### TEST ###\n",
    "# total = 100\n",
    "# report_progress(0, total)\n",
    "# for progress in range(1, total + 1):\n",
    "#     time.sleep(0.1)\n",
    "#     report_progress(progress, total)\n",
    "# report_progress_done()"
   ]
  },
  {
   "cell_type": "markdown",
   "metadata": {},
   "source": [
    "## [Definition] Define Paths\n",
    "   * Dictionaries: ./Dictionaries [Culture; Demographics; Relational]\n",
    "   * Articles: ../All_Articles [Part 001-098]"
   ]
  },
  {
   "cell_type": "code",
   "execution_count": 7,
   "metadata": {},
   "outputs": [
    {
     "name": "stdout",
     "output_type": "stream",
     "text": [
      "[]\n",
      "     ('Culture', './Dictionaries/Culture.csv')\n",
      "     ('Demographic', './Dictionaries/Demographic.csv')\n",
      "     ('Relational', './Dictionaries/Relational.csv')\n"
     ]
    }
   ],
   "source": [
    "\"\"\"\n",
    "Paths for Dictionaries\n",
    "\"\"\"\n",
    "dictionary_root = \"./Dictionaries\"\n",
    "dictionary_path = {}\n",
    "dictionary_name_list = [\n",
    "    \"Culture\",\n",
    "    \"Demographic\",\n",
    "    \"Relational\",\n",
    "]\n",
    "\n",
    "for dictionary_name in dictionary_name_list:\n",
    "    dictionary_path[dictionary_name] = join(dictionary_root, dictionary_name + \".csv\")\n",
    "\n",
    "\"\"\"\n",
    "Paths for Articles\n",
    "\"\"\"\n",
    "articles_root = \"../Soc_MGT_OB_1980_2018\"\n",
    "\n",
    "\"\"\"\n",
    "Paths for Database\n",
    "\"\"\"\n",
    "db_root = \"./\"\n",
    "db_name = \"my_result.db\"\n",
    "\n",
    "### TEST ###\n",
    "display(dictionary_path.items())"
   ]
  },
  {
   "cell_type": "markdown",
   "metadata": {},
   "source": [
    "## [Method] Article Zip File Validation By Filename"
   ]
  },
  {
   "cell_type": "code",
   "execution_count": 8,
   "metadata": {},
   "outputs": [],
   "source": [
    "\"\"\" \n",
    "Assert the filename in format \"receipt-id-989431-part-XXX.zip\"\n",
    "where XXX stands for article set number\n",
    "\"\"\"\n",
    "def valid_zip(filename):\n",
    "    return re.match(\"^receipt-id-989431-part-.+.zip$\", filename)"
   ]
  },
  {
   "cell_type": "markdown",
   "metadata": {},
   "source": [
    "## [Application] Article Zip File Validation By Filename"
   ]
  },
  {
   "cell_type": "code",
   "execution_count": 9,
   "metadata": {},
   "outputs": [
    {
     "name": "stdout",
     "output_type": "stream",
     "text": [
      "['articles_zip_file_list']\n",
      "     receipt-id-989431-part-001.zip\n",
      "     receipt-id-989431-part-002.zip\n",
      "     receipt-id-989431-part-003.zip\n",
      "     receipt-id-989431-part-004.zip\n",
      "     receipt-id-989431-part-005.zip\n"
     ]
    }
   ],
   "source": [
    "\"\"\"\n",
    "Get filtering results\n",
    "\"\"\"\n",
    "articles_zip_file_list = sorted([filename for filename in os.listdir(articles_root) if valid_zip(filename)])\n",
    "display(articles_zip_file_list, limit=5)"
   ]
  },
  {
   "cell_type": "markdown",
   "metadata": {},
   "source": [
    "## [Method] Parse Article Set ID"
   ]
  },
  {
   "cell_type": "code",
   "execution_count": 10,
   "metadata": {},
   "outputs": [],
   "source": [
    "\"\"\" Define function getting article set ID by the zip-file-name\n",
    "Pattern: receipt-id-989431-part-XXX.zip\n",
    "\"\"\"\n",
    "def parse_article_set_id(filename):\n",
    "    id_number_lst = re.findall(\"receipt-id-989431-part-(.+).zip\", filename)\n",
    "    if len(id_number_lst) == 1:\n",
    "        return id_number_lst[0]\n",
    "    print(\"Parse_ID Error: Filename does not match pattern. \")\n",
    "    return None\n",
    "\n",
    "### TEST ###\n",
    "# print(parse_article_set_id(\"receipt-id-752441-part-000.zip\"))"
   ]
  },
  {
   "cell_type": "markdown",
   "metadata": {},
   "source": [
    "## [Method] Parse Article Number ID"
   ]
  },
  {
   "cell_type": "code",
   "execution_count": 11,
   "metadata": {},
   "outputs": [
    {
     "name": "stdout",
     "output_type": "stream",
     "text": [
      "10.2307_00000000\n",
      "10.2307_00000000\n"
     ]
    }
   ],
   "source": [
    "\"\"\" Define function getting article ID by the file-name\n",
    "Pattern: journal-article-10.2307_00000000-ngram1.txt\n",
    "\"\"\"\n",
    "def parse_article_id(filename):\n",
    "    id_number_lst = re.findall(\"journal-article-(.+)-+\", filename)\n",
    "    if len(id_number_lst) == 1:\n",
    "        return id_number_lst[0]\n",
    "    id_number_lst = re.findall(\"journal-article-(.+)\\.+\", filename)\n",
    "    if len(id_number_lst) == 1:\n",
    "        return id_number_lst[0]\n",
    "    print(\"Parse_ID Error: Filename does not match pattern. \")\n",
    "    return None\n",
    "\n",
    "### TEST ###\n",
    "print(parse_article_id(\"journal-article-10.2307_00000000-ngram1.txt\"))\n",
    "print(parse_article_id(\"journal-article-10.2307_00000000.xml\"))"
   ]
  },
  {
   "cell_type": "markdown",
   "metadata": {},
   "source": [
    "## [Method] Parse Directory From Path"
   ]
  },
  {
   "cell_type": "code",
   "execution_count": 12,
   "metadata": {},
   "outputs": [
    {
     "name": "stdout",
     "output_type": "stream",
     "text": [
      "('metadata', 'journal-article-10.2307_3323388.xml')\n"
     ]
    }
   ],
   "source": [
    "def parse_directory_from_path(file_path):\n",
    "    path_directory = re.findall(\"\\w+/\", file_path)\n",
    "    if len(path_directory) == 1:\n",
    "        directory, filename = file_path.split(\"/\")\n",
    "        return directory, filename\n",
    "    print(\"Parse_Directory Error: Multiple directories embedded or no directory exist\")\n",
    "    \n",
    "# TEST\n",
    "print(parse_directory_from_path(\"metadata/journal-article-10.2307_3323388.xml\"))"
   ]
  },
  {
   "cell_type": "markdown",
   "metadata": {},
   "source": [
    "## [Method] Group and Count Files In Zipfile"
   ]
  },
  {
   "cell_type": "code",
   "execution_count": 13,
   "metadata": {},
   "outputs": [],
   "source": [
    "def group_and_count(file_paths):\n",
    "    groups = dict()\n",
    "    for file_path in file_paths:\n",
    "        assert isinstance(file_path, str)\n",
    "        path_directory, filename = parse_directory_from_path(file_path)\n",
    "        \n",
    "        if filename.startswith(\"journal\"):\n",
    "            file_id = parse_article_id(filename)\n",
    "            if path_directory in groups:\n",
    "                groups[path_directory].add(file_id)\n",
    "            else:\n",
    "                groups[path_directory] = set([file_id])\n",
    "    return groups"
   ]
  },
  {
   "cell_type": "markdown",
   "metadata": {},
   "source": [
    "## [Method] Element Counts For Each Key In Dictionary\n",
    "* Key -> Directory Name\n",
    "* Dictionary -> Grouped Dictionaries"
   ]
  },
  {
   "cell_type": "code",
   "execution_count": 14,
   "metadata": {},
   "outputs": [],
   "source": [
    "def count_for_each_directory(grouped_directories):\n",
    "    counts = dict()\n",
    "    for key in sorted(grouped_directories.keys()):\n",
    "        counts[key] = len(grouped_directories[key]) \n",
    "    return counts"
   ]
  },
  {
   "cell_type": "markdown",
   "metadata": {},
   "source": [
    "## [Method] Find Differences In File IDs Between Each Folders"
   ]
  },
  {
   "cell_type": "code",
   "execution_count": 15,
   "metadata": {},
   "outputs": [],
   "source": [
    "def diffs_between_folders(grouped_directories):\n",
    "    \"\"\"\n",
    "    :return => {\"standard_array_name\": \"metadata/\", \n",
    "                \"ngram1\": np.array(differences between ngram1's filenames and standard_array_name's)}\n",
    "    \"\"\"\n",
    "    results = dict()\n",
    "    \n",
    "    keys = sorted(grouped_directories.keys())\n",
    "    standard_array_name = keys.pop(0) # Usually this is \"metadata/\"\n",
    "    results[\"standard_array_name\"] = standard_array_name\n",
    "    \n",
    "    standard_array = np.asarray(list(grouped_directories[standard_array_name]))\n",
    "    \n",
    "    for other_key in keys:\n",
    "        filenames_array = np.asarray(list(grouped_directories[other_key]))\n",
    "        results[other_key] = np.setdiff1d(standard_array, filenames_array)\n",
    "    return results"
   ]
  },
  {
   "cell_type": "markdown",
   "metadata": {},
   "source": [
    "## [Method] Display Filenames In Zipfile"
   ]
  },
  {
   "cell_type": "code",
   "execution_count": 37,
   "metadata": {},
   "outputs": [],
   "source": [
    "def display_filenames():\n",
    "    counts_in_zipfiles = dict()\n",
    "    differences_in_zipfiles = dict()\n",
    "    \n",
    "    # Iterate Through All Article Sets\n",
    "    for article_zip_file_name in articles_zip_file_list:\n",
    "        \n",
    "        # Extract Data Set ID\n",
    "        data_set_id = parse_article_set_id(article_zip_file_name)\n",
    "        \n",
    "        # Path Format => \"../Soc_MGT&OB_1980_2018/receipt-id-989431-part-001.zip\"\n",
    "        article_zip_file_path = join(articles_root, article_zip_file_name)\n",
    "        \n",
    "        \"\"\"\n",
    "        TODO: E.g: Zip-003/012 Cannot Be Openned\n",
    "        \"\"\"\n",
    "        try:\n",
    "            # Read The Zip File Without Unzipping\n",
    "            zip_file = zipfile.ZipFile(article_zip_file_path)\n",
    "            file_name_list = zip_file.namelist()\n",
    "\n",
    "            # {\"metadata\" : [filename1, filename2, ..], \"ngram1\": [filename1', ...]}\n",
    "            grouped_directories = group_and_count(file_name_list)\n",
    "\n",
    "            '''\n",
    "            for key in grouped_directories.keys():\n",
    "                display(grouped_directories[key])\n",
    "            return\n",
    "            '''\n",
    "\n",
    "            # {\"metadata\" : 12, \"ngram1\" : 12, ...}\n",
    "            num_file_counts = count_for_each_directory(grouped_directories)\n",
    "\n",
    "            # Compare differences between files in folders\n",
    "            differences = diffs_between_folders(grouped_directories)\n",
    "\n",
    "            counts_in_zipfiles[data_set_id] = num_file_counts\n",
    "            differences_in_zipfiles[data_set_id] = differences\n",
    "        except:\n",
    "            continue\n",
    "        \n",
    "    return counts_in_zipfiles, differences_in_zipfiles"
   ]
  },
  {
   "cell_type": "code",
   "execution_count": 38,
   "metadata": {},
   "outputs": [],
   "source": [
    "counts_in_zipfiles, differences_in_zipfiles = display_filenames()"
   ]
  },
  {
   "cell_type": "code",
   "execution_count": 39,
   "metadata": {},
   "outputs": [],
   "source": [
    "\"\"\"\n",
    "Counts\n",
    "\"\"\"\n",
    "columns = [\"set_id\", \"metadata\", \"ngram1\", \"ngram2\", \"ngram3\", \"ocr\"]\n",
    "data = []\n",
    "for zip_id in counts_in_zipfiles:\n",
    "    dataline = []\n",
    "    dataline.append(zip_id)\n",
    "    zip_info = counts_in_zipfiles[zip_id]\n",
    "    for folder_name in sorted(zip_info.keys()):\n",
    "        dataline.append(zip_info[folder_name])\n",
    "    data.append(dataline)\n",
    "index = list(range(len(data)))\n",
    "df_counts = pd.DataFrame(data, columns=columns, index=index)"
   ]
  },
  {
   "cell_type": "code",
   "execution_count": 40,
   "metadata": {},
   "outputs": [
    {
     "data": {
      "text/html": [
       "<div>\n",
       "<style scoped>\n",
       "    .dataframe tbody tr th:only-of-type {\n",
       "        vertical-align: middle;\n",
       "    }\n",
       "\n",
       "    .dataframe tbody tr th {\n",
       "        vertical-align: top;\n",
       "    }\n",
       "\n",
       "    .dataframe thead th {\n",
       "        text-align: right;\n",
       "    }\n",
       "</style>\n",
       "<table border=\"1\" class=\"dataframe\">\n",
       "  <thead>\n",
       "    <tr style=\"text-align: right;\">\n",
       "      <th></th>\n",
       "      <th>set_id</th>\n",
       "      <th>metadata</th>\n",
       "      <th>ngram1</th>\n",
       "      <th>ngram2</th>\n",
       "      <th>ngram3</th>\n",
       "      <th>ocr</th>\n",
       "    </tr>\n",
       "  </thead>\n",
       "  <tbody>\n",
       "    <tr>\n",
       "      <th>0</th>\n",
       "      <td>001</td>\n",
       "      <td>29073</td>\n",
       "      <td>29071</td>\n",
       "      <td>29070</td>\n",
       "      <td>29070</td>\n",
       "      <td>29067</td>\n",
       "    </tr>\n",
       "    <tr>\n",
       "      <th>1</th>\n",
       "      <td>002</td>\n",
       "      <td>28891</td>\n",
       "      <td>28893</td>\n",
       "      <td>28893</td>\n",
       "      <td>28892</td>\n",
       "      <td>28895</td>\n",
       "    </tr>\n",
       "    <tr>\n",
       "      <th>2</th>\n",
       "      <td>004</td>\n",
       "      <td>29038</td>\n",
       "      <td>29038</td>\n",
       "      <td>29040</td>\n",
       "      <td>29038</td>\n",
       "      <td>29039</td>\n",
       "    </tr>\n",
       "    <tr>\n",
       "      <th>3</th>\n",
       "      <td>005</td>\n",
       "      <td>29202</td>\n",
       "      <td>29201</td>\n",
       "      <td>29197</td>\n",
       "      <td>29196</td>\n",
       "      <td>29192</td>\n",
       "    </tr>\n",
       "    <tr>\n",
       "      <th>4</th>\n",
       "      <td>006</td>\n",
       "      <td>28884</td>\n",
       "      <td>28883</td>\n",
       "      <td>28887</td>\n",
       "      <td>28890</td>\n",
       "      <td>28894</td>\n",
       "    </tr>\n",
       "  </tbody>\n",
       "</table>\n",
       "</div>"
      ],
      "text/plain": [
       "  set_id  metadata  ngram1  ngram2  ngram3    ocr\n",
       "0    001     29073   29071   29070   29070  29067\n",
       "1    002     28891   28893   28893   28892  28895\n",
       "2    004     29038   29038   29040   29038  29039\n",
       "3    005     29202   29201   29197   29196  29192\n",
       "4    006     28884   28883   28887   28890  28894"
      ]
     },
     "execution_count": 40,
     "metadata": {},
     "output_type": "execute_result"
    }
   ],
   "source": [
    "df_counts.head()"
   ]
  },
  {
   "cell_type": "code",
   "execution_count": 41,
   "metadata": {},
   "outputs": [],
   "source": [
    "\"\"\"\n",
    "Differences Explicit\n",
    "\"\"\"\n",
    "columns = [\"set_id\", \"metadata\", \"ngram1\", \"ngram2\", \"ngram3\", \"ocr\"]\n",
    "data = []\n",
    "for zip_id in differences_in_zipfiles:\n",
    "    dataline = []\n",
    "    dataline.append(zip_id)\n",
    "    zip_info = differences_in_zipfiles[zip_id]\n",
    "    for folder_type in zip_info:\n",
    "        dataline.append(zip_info[folder_type])\n",
    "    data.append(dataline)\n",
    "    \n",
    "index = list(range(len(data)))\n",
    "df_diffs = pd.DataFrame(data, columns=columns, index=index)"
   ]
  },
  {
   "cell_type": "code",
   "execution_count": 42,
   "metadata": {},
   "outputs": [
    {
     "data": {
      "text/html": [
       "<div>\n",
       "<style scoped>\n",
       "    .dataframe tbody tr th:only-of-type {\n",
       "        vertical-align: middle;\n",
       "    }\n",
       "\n",
       "    .dataframe tbody tr th {\n",
       "        vertical-align: top;\n",
       "    }\n",
       "\n",
       "    .dataframe thead th {\n",
       "        text-align: right;\n",
       "    }\n",
       "</style>\n",
       "<table border=\"1\" class=\"dataframe\">\n",
       "  <thead>\n",
       "    <tr style=\"text-align: right;\">\n",
       "      <th></th>\n",
       "      <th>set_id</th>\n",
       "      <th>metadata</th>\n",
       "      <th>ngram1</th>\n",
       "      <th>ngram2</th>\n",
       "      <th>ngram3</th>\n",
       "      <th>ocr</th>\n",
       "    </tr>\n",
       "  </thead>\n",
       "  <tbody>\n",
       "    <tr>\n",
       "      <th>0</th>\n",
       "      <td>001</td>\n",
       "      <td>metadata</td>\n",
       "      <td>[10.2307_1042756, 10.2307_23003313]</td>\n",
       "      <td>[10.2307_1042756, 10.2307_23003313, 10.2307_23...</td>\n",
       "      <td>[10.2307_1042756, 10.2307_23003313, 10.2307_23...</td>\n",
       "      <td>[10.2307_1040285, 10.2307_1042756, 10.2307_230...</td>\n",
       "    </tr>\n",
       "    <tr>\n",
       "      <th>1</th>\n",
       "      <td>002</td>\n",
       "      <td>metadata</td>\n",
       "      <td>[]</td>\n",
       "      <td>[10.2307_1387656]</td>\n",
       "      <td>[10.2307_1387656, 10.2307_20122454]</td>\n",
       "      <td>[10.2307_1387656, 10.2307_20122454]</td>\n",
       "    </tr>\n",
       "    <tr>\n",
       "      <th>2</th>\n",
       "      <td>004</td>\n",
       "      <td>metadata</td>\n",
       "      <td>[]</td>\n",
       "      <td>[]</td>\n",
       "      <td>[10.2307_23016305, 10.2307_2668076, 10.2307_30...</td>\n",
       "      <td>[10.2307_2094883, 10.2307_23016305, 10.2307_26...</td>\n",
       "    </tr>\n",
       "    <tr>\n",
       "      <th>3</th>\n",
       "      <td>005</td>\n",
       "      <td>metadata</td>\n",
       "      <td>[10.2307_3010919]</td>\n",
       "      <td>[10.2307_26162514, 10.2307_3010919, 10.2307_41...</td>\n",
       "      <td>[10.2307_1040241, 10.2307_1049672, 10.2307_207...</td>\n",
       "      <td>[10.2307_1040241, 10.2307_1049672, 10.2307_207...</td>\n",
       "    </tr>\n",
       "    <tr>\n",
       "      <th>4</th>\n",
       "      <td>006</td>\n",
       "      <td>metadata</td>\n",
       "      <td>[10.2307_1171587, 10.2307_3599930]</td>\n",
       "      <td>[10.2307_1171587, 10.2307_3599930]</td>\n",
       "      <td>[10.2307_1171587, 10.2307_23745150, 10.2307_25...</td>\n",
       "      <td>[10.2307_1171587, 10.2307_23745150, 10.2307_25...</td>\n",
       "    </tr>\n",
       "  </tbody>\n",
       "</table>\n",
       "</div>"
      ],
      "text/plain": [
       "  set_id  metadata                               ngram1  \\\n",
       "0    001  metadata  [10.2307_1042756, 10.2307_23003313]   \n",
       "1    002  metadata                                   []   \n",
       "2    004  metadata                                   []   \n",
       "3    005  metadata                    [10.2307_3010919]   \n",
       "4    006  metadata   [10.2307_1171587, 10.2307_3599930]   \n",
       "\n",
       "                                              ngram2  \\\n",
       "0  [10.2307_1042756, 10.2307_23003313, 10.2307_23...   \n",
       "1                                  [10.2307_1387656]   \n",
       "2                                                 []   \n",
       "3  [10.2307_26162514, 10.2307_3010919, 10.2307_41...   \n",
       "4                 [10.2307_1171587, 10.2307_3599930]   \n",
       "\n",
       "                                              ngram3  \\\n",
       "0  [10.2307_1042756, 10.2307_23003313, 10.2307_23...   \n",
       "1                [10.2307_1387656, 10.2307_20122454]   \n",
       "2  [10.2307_23016305, 10.2307_2668076, 10.2307_30...   \n",
       "3  [10.2307_1040241, 10.2307_1049672, 10.2307_207...   \n",
       "4  [10.2307_1171587, 10.2307_23745150, 10.2307_25...   \n",
       "\n",
       "                                                 ocr  \n",
       "0  [10.2307_1040285, 10.2307_1042756, 10.2307_230...  \n",
       "1                [10.2307_1387656, 10.2307_20122454]  \n",
       "2  [10.2307_2094883, 10.2307_23016305, 10.2307_26...  \n",
       "3  [10.2307_1040241, 10.2307_1049672, 10.2307_207...  \n",
       "4  [10.2307_1171587, 10.2307_23745150, 10.2307_25...  "
      ]
     },
     "execution_count": 42,
     "metadata": {},
     "output_type": "execute_result"
    }
   ],
   "source": [
    "df_diffs.head()"
   ]
  },
  {
   "cell_type": "code",
   "execution_count": 1,
   "metadata": {},
   "outputs": [
    {
     "ename": "NameError",
     "evalue": "name 'df_diffs' is not defined",
     "output_type": "error",
     "traceback": [
      "\u001b[0;31m---------------------------------------------------------------------------\u001b[0m",
      "\u001b[0;31mNameError\u001b[0m                                 Traceback (most recent call last)",
      "\u001b[0;32m<ipython-input-1-526c8637799b>\u001b[0m in \u001b[0;36m<module>\u001b[0;34m()\u001b[0m\n\u001b[0;32m----> 1\u001b[0;31m \u001b[0mtype\u001b[0m\u001b[0;34m(\u001b[0m\u001b[0mdf_diffs\u001b[0m\u001b[0;34m[\u001b[0m\u001b[0mdf_diffs\u001b[0m\u001b[0;34m[\u001b[0m\u001b[0;34m\"Zip_ID\"\u001b[0m\u001b[0;34m]\u001b[0m\u001b[0;34m==\u001b[0m\u001b[0;34m\"014\"\u001b[0m\u001b[0;34m]\u001b[0m\u001b[0;34m.\u001b[0m\u001b[0miloc\u001b[0m\u001b[0;34m[\u001b[0m\u001b[0;36m0\u001b[0m\u001b[0;34m]\u001b[0m\u001b[0;34m[\u001b[0m\u001b[0;34m\"Ngram1\"\u001b[0m\u001b[0;34m]\u001b[0m\u001b[0;34m)\u001b[0m\u001b[0;34m\u001b[0m\u001b[0m\n\u001b[0m",
      "\u001b[0;31mNameError\u001b[0m: name 'df_diffs' is not defined"
     ]
    }
   ],
   "source": [
    "type(df_diffs[df_diffs[\"Zip_ID\"]==\"014\"].iloc[0][\"Ngram1\"])"
   ]
  },
  {
   "cell_type": "code",
   "execution_count": null,
   "metadata": {},
   "outputs": [],
   "source": [
    "with open(\"./df_diffs.gz\", \"wb\") as df_diffs_file:\n",
    "    pickle.dump(df_diffs, df_diffs_file)"
   ]
  },
  {
   "cell_type": "code",
   "execution_count": null,
   "metadata": {},
   "outputs": [],
   "source": [
    "\"\"\"\n",
    "Differences Counts\n",
    "\"\"\"\n",
    "columns = [\"set_id\", \"metadata\", \"ngram1\", \"ngram2\", \"ngram3\", \"ocr\"]\n",
    "data = []\n",
    "for zip_id in differences_in_zipfiles:\n",
    "    dataline = []\n",
    "    dataline.append(zip_id)\n",
    "    zip_info = differences_in_zipfiles[zip_id]\n",
    "    for folder_type in zip_info:\n",
    "        element = zip_info[folder_type]\n",
    "        element = element.size if not isinstance(element, str) else element\n",
    "        dataline.append(element)\n",
    "    data.append(dataline)\n",
    "    \n",
    "index = list(range(len(data)))\n",
    "df_diff_counts = pd.DataFrame(data, columns=columns, index=index)"
   ]
  },
  {
   "cell_type": "code",
   "execution_count": null,
   "metadata": {},
   "outputs": [],
   "source": [
    "df_diff_counts.head()"
   ]
  },
  {
   "cell_type": "code",
   "execution_count": null,
   "metadata": {},
   "outputs": [],
   "source": []
  },
  {
   "cell_type": "code",
   "execution_count": null,
   "metadata": {},
   "outputs": [],
   "source": []
  }
 ],
 "metadata": {
  "kernelspec": {
   "display_name": "Python 3.6",
   "language": "python",
   "name": "python3.6"
  },
  "language_info": {
   "codemirror_mode": {
    "name": "ipython",
    "version": 3
   },
   "file_extension": ".py",
   "mimetype": "text/x-python",
   "name": "python",
   "nbconvert_exporter": "python",
   "pygments_lexer": "ipython3",
   "version": "3.6.4"
  }
 },
 "nbformat": 4,
 "nbformat_minor": 2
}
