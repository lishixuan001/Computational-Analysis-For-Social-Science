{
 "cells": [
  {
   "cell_type": "code",
   "execution_count": 1,
   "metadata": {},
   "outputs": [],
   "source": [
    "import os\n",
    "from os import listdir\n",
    "from os.path import isfile, join\n",
    "\n",
    "import re\n",
    "import sys\n",
    "import time\n",
    "from collections import Counter\n",
    "\n",
    "import pandas as pd\n",
    "import numpy as np\n",
    "\n",
    "import csv\n",
    "import zipfile\n",
    "from shutil import *\n",
    "import pickle\n",
    "\n",
    "import sqlite3"
   ]
  },
  {
   "cell_type": "markdown",
   "metadata": {},
   "source": [
    "## [Method] Parse Article Number ID"
   ]
  },
  {
   "cell_type": "code",
   "execution_count": 2,
   "metadata": {},
   "outputs": [
    {
     "name": "stdout",
     "output_type": "stream",
     "text": [
      "10.1086_210007\n",
      "10.1086_210007\n"
     ]
    }
   ],
   "source": [
    "\"\"\" Define function getting article ID by the file-name\n",
    "Pattern: journal-article-10.1086_210007-ngram1.txt\n",
    "\"\"\"\n",
    "def parse_article_id(filename):\n",
    "    id_number_lst = re.findall(\"journal-article-(.+)-+\", filename)\n",
    "    if len(id_number_lst) == 1:\n",
    "        return id_number_lst[0]\n",
    "    id_number_lst = re.findall(\"journal-article-(.+)\\.+\", filename)\n",
    "    if len(id_number_lst) == 1:\n",
    "        return id_number_lst[0]\n",
    "    print(\"Parse_ID Error: Filename does not match pattern. \")\n",
    "    return None\n",
    "\n",
    "### TEST ###\n",
    "print(parse_article_id(\"journal-article-10.1086_210007-ngram1.txt\"))\n",
    "print(parse_article_id(\"journal-article-10.1086_210007.xml\"))"
   ]
  },
  {
   "cell_type": "markdown",
   "metadata": {},
   "source": [
    "## [Method] Define Parameters"
   ]
  },
  {
   "cell_type": "code",
   "execution_count": 18,
   "metadata": {},
   "outputs": [],
   "source": [
    "articles_root = \"../Soc_MGT_OB_1980_2018\"\n",
    "extracted_articles_root = \"../ExtractedZipFiles\"\n",
    "demo_files_root = \"../ExtractedZipFiles/demo\"\n",
    "\n",
    "match_base = \"metadata\"\n",
    "folders = [\"metadata\", \"ngram1\", \"ngram2\", \"ngram3\"]\n",
    "\n",
    "file_set_id = \"005\""
   ]
  },
  {
   "cell_type": "markdown",
   "metadata": {},
   "source": [
    "## [Application] Extract Zip "
   ]
  },
  {
   "cell_type": "code",
   "execution_count": null,
   "metadata": {},
   "outputs": [],
   "source": [
    "zip_file = zipfile.ZipFile(join(articles_root, \"receipt-id-989431-part-{}.zip\".format(file_set_id)))\n",
    "zip_file.extractall(join(extracted_articles_root, \"receipt-id-989431-part-{}\".format(file_set_id)))\n",
    "zip_file.close()"
   ]
  },
  {
   "cell_type": "code",
   "execution_count": null,
   "metadata": {},
   "outputs": [],
   "source": []
  },
  {
   "cell_type": "code",
   "execution_count": null,
   "metadata": {},
   "outputs": [],
   "source": []
  },
  {
   "cell_type": "code",
   "execution_count": null,
   "metadata": {},
   "outputs": [],
   "source": []
  },
  {
   "cell_type": "code",
   "execution_count": null,
   "metadata": {},
   "outputs": [],
   "source": []
  },
  {
   "cell_type": "code",
   "execution_count": null,
   "metadata": {},
   "outputs": [],
   "source": []
  },
  {
   "cell_type": "code",
   "execution_count": null,
   "metadata": {},
   "outputs": [],
   "source": []
  }
 ],
 "metadata": {
  "kernelspec": {
   "display_name": "Python 3.6",
   "language": "python",
   "name": "python3.6"
  },
  "language_info": {
   "codemirror_mode": {
    "name": "ipython",
    "version": 3
   },
   "file_extension": ".py",
   "mimetype": "text/x-python",
   "name": "python",
   "nbconvert_exporter": "python",
   "pygments_lexer": "ipython3",
   "version": "3.6.4"
  }
 },
 "nbformat": 4,
 "nbformat_minor": 2
}
