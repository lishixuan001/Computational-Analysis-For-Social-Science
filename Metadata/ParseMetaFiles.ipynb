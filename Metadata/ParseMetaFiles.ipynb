{
 "cells": [
  {
   "cell_type": "code",
   "execution_count": 10,
   "metadata": {},
   "outputs": [],
   "source": [
    "import os\n",
    "import sys"
   ]
  },
  {
   "cell_type": "code",
   "execution_count": 11,
   "metadata": {},
   "outputs": [
    {
     "data": {
      "text/plain": [
       "<zipfile.ZipFile filename='Mgt_&_OB_1980_2015.zip' mode='r'>"
      ]
     },
     "execution_count": 11,
     "metadata": {},
     "output_type": "execute_result"
    }
   ],
   "source": [
    "import zipfile\n",
    "\n",
    "destination_folder = 'unzipped_files/'\n",
    "zf = zipfile.ZipFile('Mgt_&_OB_1980_2015.zip', 'r')\n",
    "zf"
   ]
  },
  {
   "cell_type": "code",
   "execution_count": 5,
   "metadata": {},
   "outputs": [],
   "source": [
    "#Only run cell once to extract necessary files\n",
    "\n",
    "#TODO: write function to clear destination_folder\n",
    "for file in zf.namelist():\n",
    "    if file.startswith('metadata/journal'):\n",
    "        zf.extract(file, destination_folder)"
   ]
  },
  {
   "cell_type": "code",
   "execution_count": 12,
   "metadata": {},
   "outputs": [
    {
     "data": {
      "text/plain": [
       "25000"
      ]
     },
     "execution_count": 12,
     "metadata": {},
     "output_type": "execute_result"
    }
   ],
   "source": [
    "path, dirs, files = next(os.walk(destination_folder+ 'metadata/'))\n",
    "file_count = len(files)\n",
    "file_count"
   ]
  },
  {
   "cell_type": "code",
   "execution_count": 13,
   "metadata": {},
   "outputs": [],
   "source": [
    "def add(elem, attrs):\n",
    "    elements = attrs['elements']\n",
    "    surnames = attrs['surname']\n",
    "    given_names = attrs['given-names']\n",
    "    tag = elem.tag\n",
    "    if tag in attrs['df_cols']:\n",
    "        if tag == 'journal-id':\n",
    "            tag = 'journal_id'\n",
    "        elif tag == 'article':\n",
    "            article_attrs = elem.attrib\n",
    "            article_type = article_attrs['article-type']\n",
    "            tag = 'type'\n",
    "            elem.text = article_type\n",
    "        elif tag =='journal-title':\n",
    "            tag = 'journal_title'\n",
    "        elif tag == 'article-id':\n",
    "            tag = 'article_id'\n",
    "        elif tag == 'article-name':\n",
    "            tag = 'article_name'\n",
    "        elif tag == 'surname':\n",
    "            surnames.append(elem.text.split(',')[0])\n",
    "            elem.text = surnames\n",
    "        elif tag == 'given-names':\n",
    "            tag = 'given_names'\n",
    "            given_names.append(elem.text)\n",
    "            elem.text = given_names\n",
    "        elif tag == 'issue-id':\n",
    "            tag = 'issue_id'\n",
    "        elif tag == 'ns1:ref':\n",
    "            tag = 'jstor_url'\n",
    "        elif tag == 'p':\n",
    "            tag = 'abstract'\n",
    "            \n",
    "        len_list = len(elements[tag])\n",
    "        elements[tag][len_list - 1] = elem.text\n",
    "        \n",
    "    for child in elem.findall('*'):\n",
    "        add(child, attrs)"
   ]
  },
  {
   "cell_type": "code",
   "execution_count": 14,
   "metadata": {},
   "outputs": [],
   "source": [
    "import pandas as pd\n",
    "import xml.etree.ElementTree as ET\n",
    "\n",
    "def xml2df(files):\n",
    "    all_records = {'type':[], 'journal_id':[], 'journal_title':[], 'issn':[], 'article_id':[], 'article_name':[], 'given_names':[], 'surname':[], 'day':[], 'month':[], 'year':[], 'volume':[], 'issue':[], 'issue_id':[], 'fpage':[], 'lpage':[], 'jstor_url':[], 'abstract':[]}\n",
    "    attrs = {}\n",
    "    attrs['elements'] = all_records\n",
    "    attrs['surname'] = []\n",
    "    attrs['given-names'] = []\n",
    "    attrs['df_cols'] = ['article', 'journal-id', 'journal-title', 'issn', 'article-id', 'article-name', 'given-names', 'surname', 'day', 'month', 'year', 'volume', 'issue', 'issue-id', 'fpage', 'lpage', 'ns1:ref', 'p']\n",
    "\n",
    "    for file in files:\n",
    "        t = ET.parse(file) # element tree\n",
    "        root = t.getroot()\n",
    "        for record in all_records:\n",
    "            all_records[record].append('None')\n",
    "        add(root, attrs)\n",
    "        \n",
    "    df = pd.DataFrame(all_records)\n",
    "    return df"
   ]
  },
  {
   "cell_type": "code",
   "execution_count": null,
   "metadata": {},
   "outputs": [],
   "source": [
    "from os import listdir\n",
    "from os.path import isfile, join\n",
    "\n",
    "folder = destination_folder + 'metadata/'\n",
    "files = [join(folder, f) for f in listdir(folder) if isfile(join(folder, f))]\n",
    "\n",
    "df = xml2df(files)\n",
    "df"
   ]
  },
  {
   "cell_type": "code",
   "execution_count": null,
   "metadata": {},
   "outputs": [],
   "source": []
  }
 ],
 "metadata": {
  "kernelspec": {
   "display_name": "Python 3",
   "language": "python",
   "name": "python3"
  },
  "language_info": {
   "codemirror_mode": {
    "name": "ipython",
    "version": 3
   },
   "file_extension": ".py",
   "mimetype": "text/x-python",
   "name": "python",
   "nbconvert_exporter": "python",
   "pygments_lexer": "ipython3",
   "version": "3.6.5"
  }
 },
 "nbformat": 4,
 "nbformat_minor": 2
}
